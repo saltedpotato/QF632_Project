{
 "cells": [
  {
   "cell_type": "code",
   "execution_count": 1,
   "id": "ca689ea2",
   "metadata": {},
   "outputs": [],
   "source": [
    "from Utils.preprocessing import *\n",
    "from Utils.pipelineComponents import *\n",
    "from Utils.preprocessing import *\n",
    "\n",
    "import re\n",
    "import matplotlib.pyplot as plt\n",
    "import seaborn as sns\n",
    "sns.set(style='ticks')\n",
    "\n",
    "RANDOM_STATE = 2024"
   ]
  },
  {
   "cell_type": "markdown",
   "id": "68fe60fe",
   "metadata": {},
   "source": [
    "# Webscraping Portion"
   ]
  },
  {
   "cell_type": "code",
   "execution_count": 2,
   "id": "4e9d291e",
   "metadata": {},
   "outputs": [],
   "source": [
    "# Read prof's sample data to view format & data science roles\n",
    "sample_data_a = pd.read_csv(\"Data/jobs_in_data.csv\")\n",
    "sample_data_b = pd.read_csv(\"Data/QF632_Project_2_b.csv\")\n",
    "sample_data_c = pd.read_csv(\"Data/QF632_Project_2_c.csv\")\n",
    "sample_data_d = pd.read_csv(\"Data/Glassdoor_Salary_Cleaned_Version.csv\")"
   ]
  },
  {
   "cell_type": "code",
   "execution_count": 10,
   "id": "8038ad07",
   "metadata": {},
   "outputs": [
    {
     "name": "stdout",
     "output_type": "stream",
     "text": [
      "(80866, 8)\n"
     ]
    },
    {
     "data": {
      "text/html": [
       "<div>\n",
       "<style scoped>\n",
       "    .dataframe tbody tr th:only-of-type {\n",
       "        vertical-align: middle;\n",
       "    }\n",
       "\n",
       "    .dataframe tbody tr th {\n",
       "        vertical-align: top;\n",
       "    }\n",
       "\n",
       "    .dataframe thead th {\n",
       "        text-align: right;\n",
       "    }\n",
       "</style>\n",
       "<table border=\"1\" class=\"dataframe\">\n",
       "  <thead>\n",
       "    <tr style=\"text-align: right;\">\n",
       "      <th></th>\n",
       "      <th>EMPLOYER</th>\n",
       "      <th>JOB TITLE</th>\n",
       "      <th>BASE SALARY</th>\n",
       "      <th>LOCATION</th>\n",
       "      <th>SUBMIT DATE</th>\n",
       "      <th>START DATE</th>\n",
       "      <th>Unnamed: 6</th>\n",
       "      <th>TYPE</th>\n",
       "    </tr>\n",
       "  </thead>\n",
       "  <tbody>\n",
       "    <tr>\n",
       "      <th>2185</th>\n",
       "      <td>CHOCTAW NATION OF OKLAHOMA</td>\n",
       "      <td>DATA ENGINEER II</td>\n",
       "      <td>90000</td>\n",
       "      <td>DURANT, OK</td>\n",
       "      <td>09/24/2020</td>\n",
       "      <td>10/05/2020</td>\n",
       "      <td>NaN</td>\n",
       "      <td>data engineer</td>\n",
       "    </tr>\n",
       "    <tr>\n",
       "      <th>186</th>\n",
       "      <td>BRASKEM AMERICA INC</td>\n",
       "      <td>DATA SCIENTIST - DATA ANALYTICS , MACHINE LEAR...</td>\n",
       "      <td>67000</td>\n",
       "      <td>PITTSBURGH, PA</td>\n",
       "      <td>03/06/2020</td>\n",
       "      <td>08/26/2020</td>\n",
       "      <td>NaN</td>\n",
       "      <td>data scientist</td>\n",
       "    </tr>\n",
       "    <tr>\n",
       "      <th>1973</th>\n",
       "      <td>3I INFOTECH INC</td>\n",
       "      <td>DATA ENGINEER</td>\n",
       "      <td>75000</td>\n",
       "      <td>GRAPEVINE, TX</td>\n",
       "      <td>11/02/2017</td>\n",
       "      <td>11/13/2017</td>\n",
       "      <td>NaN</td>\n",
       "      <td>data engineer</td>\n",
       "    </tr>\n",
       "    <tr>\n",
       "      <th>2572</th>\n",
       "      <td>CROM TECHNOLOGY INC</td>\n",
       "      <td>DATA ANALYST</td>\n",
       "      <td>60000</td>\n",
       "      <td>SOMERSET, NJ</td>\n",
       "      <td>03/19/2016</td>\n",
       "      <td>08/15/2016</td>\n",
       "      <td>NaN</td>\n",
       "      <td>data analyst</td>\n",
       "    </tr>\n",
       "    <tr>\n",
       "      <th>1650</th>\n",
       "      <td>ROBOTICS TECHNOLOGIES LLC</td>\n",
       "      <td>DATA ANALYST</td>\n",
       "      <td>48672</td>\n",
       "      <td>DURANT, OK</td>\n",
       "      <td>12/01/2021</td>\n",
       "      <td>12/01/2021</td>\n",
       "      <td>NaN</td>\n",
       "      <td>data analyst</td>\n",
       "    </tr>\n",
       "  </tbody>\n",
       "</table>\n",
       "</div>"
      ],
      "text/plain": [
       "                        EMPLOYER  \\\n",
       "2185  CHOCTAW NATION OF OKLAHOMA   \n",
       "186          BRASKEM AMERICA INC   \n",
       "1973             3I INFOTECH INC   \n",
       "2572         CROM TECHNOLOGY INC   \n",
       "1650   ROBOTICS TECHNOLOGIES LLC   \n",
       "\n",
       "                                              JOB TITLE BASE SALARY  \\\n",
       "2185                                   DATA ENGINEER II       90000   \n",
       "186   DATA SCIENTIST - DATA ANALYTICS , MACHINE LEAR...       67000   \n",
       "1973                                      DATA ENGINEER       75000   \n",
       "2572                                       DATA ANALYST       60000   \n",
       "1650                                       DATA ANALYST       48672   \n",
       "\n",
       "            LOCATION SUBMIT DATE  START DATE Unnamed: 6            TYPE  \n",
       "2185      DURANT, OK  09/24/2020  10/05/2020        NaN   data engineer  \n",
       "186   PITTSBURGH, PA  03/06/2020  08/26/2020        NaN  data scientist  \n",
       "1973   GRAPEVINE, TX  11/02/2017  11/13/2017        NaN   data engineer  \n",
       "2572    SOMERSET, NJ  03/19/2016  08/15/2016        NaN    data analyst  \n",
       "1650      DURANT, OK  12/01/2021  12/01/2021        NaN    data analyst  "
      ]
     },
     "execution_count": 10,
     "metadata": {},
     "output_type": "execute_result"
    }
   ],
   "source": [
    "base_url = \"https://h1bdata.info/index.php?em=&job=data+scientist&city=&year=all+years\"\n",
    "roles = [\"data scientist\", \"data analyst\", \"data storyteller\", \"data insights\", \"research scientist\", \"business data analyst\",\n",
    "        \"data analytics\", \"data engineer\", \"machine learning\", \"ml engineer\", \"ai architect\"]\n",
    "\n",
    "all_df = pd.DataFrame()\n",
    "for role in roles:\n",
    "    job = \"+\".join(role.split(\" \"))\n",
    "    url = base_url + \"/index.php?em=&job=\" + job + \"&city=&year=all+years\"\n",
    "    try: \n",
    "        dfs_base = pd.read_html(url)\n",
    "    except: \n",
    "        continue\n",
    "    \n",
    "    # to include all other variations, add a '&'\n",
    "    url = base_url + \"/index.php?em=&job=\" + job + \"+&&city=&year=all+years\"\n",
    "    \n",
    "    try:\n",
    "        dfs_var = pd.read_html(url)\n",
    "    except:\n",
    "        continue\n",
    "    \n",
    "    temp_df = pd.concat([dfs_base[0], dfs_var[0]])\n",
    "    temp_df[\"TYPE\"] = role\n",
    "    \n",
    "    all_df = pd.concat([all_df, temp_df])\n",
    "\n",
    "print(all_df.shape)\n",
    "all_df.sample(5)"
   ]
  },
  {
   "cell_type": "markdown",
   "id": "b4c63900",
   "metadata": {},
   "source": [
    "# Data Analysis"
   ]
  },
  {
   "cell_type": "code",
   "execution_count": 15,
   "id": "76d1e12a",
   "metadata": {},
   "outputs": [
    {
     "name": "stdout",
     "output_type": "stream",
     "text": [
      "(74810, 9)\n"
     ]
    },
    {
     "data": {
      "text/html": [
       "<div>\n",
       "<style scoped>\n",
       "    .dataframe tbody tr th:only-of-type {\n",
       "        vertical-align: middle;\n",
       "    }\n",
       "\n",
       "    .dataframe tbody tr th {\n",
       "        vertical-align: top;\n",
       "    }\n",
       "\n",
       "    .dataframe thead th {\n",
       "        text-align: right;\n",
       "    }\n",
       "</style>\n",
       "<table border=\"1\" class=\"dataframe\">\n",
       "  <thead>\n",
       "    <tr style=\"text-align: right;\">\n",
       "      <th></th>\n",
       "      <th>EMPLOYER</th>\n",
       "      <th>JOB TITLE</th>\n",
       "      <th>y</th>\n",
       "      <th>LOCATION</th>\n",
       "      <th>SUBMIT DATE</th>\n",
       "      <th>START DATE</th>\n",
       "      <th>TYPE</th>\n",
       "      <th>YEAR</th>\n",
       "      <th>STATE</th>\n",
       "    </tr>\n",
       "  </thead>\n",
       "  <tbody>\n",
       "    <tr>\n",
       "      <th>33623</th>\n",
       "      <td>FIRST REPUBLIC BANK</td>\n",
       "      <td>DATA ANALYST</td>\n",
       "      <td>150.000</td>\n",
       "      <td>SAN FRANCISCO, CA</td>\n",
       "      <td>2022-06-17</td>\n",
       "      <td>2022-07-18</td>\n",
       "      <td>data analyst</td>\n",
       "      <td>2022</td>\n",
       "      <td>CA</td>\n",
       "    </tr>\n",
       "    <tr>\n",
       "      <th>47387</th>\n",
       "      <td>RESEARCH FOUNDATION FOR MENTAL HYGIENE INC</td>\n",
       "      <td>RESEARCH SCIENTIST I</td>\n",
       "      <td>56.565</td>\n",
       "      <td>ALBANY, NY</td>\n",
       "      <td>2019-02-20</td>\n",
       "      <td>2019-05-28</td>\n",
       "      <td>research scientist</td>\n",
       "      <td>2019</td>\n",
       "      <td>NY</td>\n",
       "    </tr>\n",
       "    <tr>\n",
       "      <th>21168</th>\n",
       "      <td>TWITTER INC</td>\n",
       "      <td>DATA SCIENTIST II</td>\n",
       "      <td>152.000</td>\n",
       "      <td>SAN FRANCISCO, CA</td>\n",
       "      <td>2020-05-11</td>\n",
       "      <td>2020-10-01</td>\n",
       "      <td>data scientist</td>\n",
       "      <td>2020</td>\n",
       "      <td>CA</td>\n",
       "    </tr>\n",
       "    <tr>\n",
       "      <th>19220</th>\n",
       "      <td>FORUM BRANDS LLC</td>\n",
       "      <td>DATA SCIENTIST I</td>\n",
       "      <td>85.000</td>\n",
       "      <td>NEW YORK, NY</td>\n",
       "      <td>2022-06-21</td>\n",
       "      <td>2022-10-01</td>\n",
       "      <td>data scientist</td>\n",
       "      <td>2022</td>\n",
       "      <td>NY</td>\n",
       "    </tr>\n",
       "    <tr>\n",
       "      <th>56622</th>\n",
       "      <td>ROBOTICS TECHNOLOGIES LLC</td>\n",
       "      <td>DATA ENGINEER</td>\n",
       "      <td>92.414</td>\n",
       "      <td>EAST PEORIA, IL</td>\n",
       "      <td>2020-11-04</td>\n",
       "      <td>2020-11-09</td>\n",
       "      <td>data engineer</td>\n",
       "      <td>2020</td>\n",
       "      <td>IL</td>\n",
       "    </tr>\n",
       "  </tbody>\n",
       "</table>\n",
       "</div>"
      ],
      "text/plain": [
       "                                         EMPLOYER             JOB TITLE  \\\n",
       "33623                         FIRST REPUBLIC BANK          DATA ANALYST   \n",
       "47387  RESEARCH FOUNDATION FOR MENTAL HYGIENE INC  RESEARCH SCIENTIST I   \n",
       "21168                                 TWITTER INC     DATA SCIENTIST II   \n",
       "19220                            FORUM BRANDS LLC      DATA SCIENTIST I   \n",
       "56622                   ROBOTICS TECHNOLOGIES LLC         DATA ENGINEER   \n",
       "\n",
       "             y           LOCATION SUBMIT DATE START DATE                TYPE  \\\n",
       "33623  150.000  SAN FRANCISCO, CA  2022-06-17 2022-07-18        data analyst   \n",
       "47387   56.565         ALBANY, NY  2019-02-20 2019-05-28  research scientist   \n",
       "21168  152.000  SAN FRANCISCO, CA  2020-05-11 2020-10-01      data scientist   \n",
       "19220   85.000       NEW YORK, NY  2022-06-21 2022-10-01      data scientist   \n",
       "56622   92.414    EAST PEORIA, IL  2020-11-04 2020-11-09       data engineer   \n",
       "\n",
       "       YEAR STATE  \n",
       "33623  2022    CA  \n",
       "47387  2019    NY  \n",
       "21168  2020    CA  \n",
       "19220  2022    NY  \n",
       "56622  2020    IL  "
      ]
     },
     "execution_count": 15,
     "metadata": {},
     "output_type": "execute_result"
    }
   ],
   "source": [
    "all_df[\"START DATE\"] = pd.to_datetime(all_df[\"START DATE\"], errors='coerce')\n",
    "all_df[\"SUBMIT DATE\"] = pd.to_datetime(all_df[\"SUBMIT DATE\"], errors='coerce')\n",
    "all_df = all_df.drop_duplicates()\n",
    "\n",
    "# Remove all non-numeric \"y\" values\n",
    "all_df2 = all_df[pd.to_numeric(all_df['BASE SALARY'], errors='coerce').notnull()].copy()\n",
    "\n",
    "# all_df2 = all_df.dropna(subset = [\"BASE SALARY\"]).copy()\n",
    "all_df2 = all_df2.drop(columns=[\"Unnamed: 6\"]).reset_index(drop=True)\n",
    "all_df2[\"YEAR\"] = pd.DatetimeIndex(all_df2['START DATE']).year\n",
    "\n",
    "# To get state, first remove all symbols, then take the last two letters\n",
    "regex = re.compile('[^a-zA-Z]')\n",
    "all_df2['STATE'] = all_df2.LOCATION.apply(lambda x:regex.sub('', x)[-2:])\n",
    "all_df2 = all_df2.rename(columns={\"BASE SALARY\":\"y\"})\n",
    "all_df2[\"y\"] =  pd.to_numeric(all_df2[\"y\"]) / 1000\n",
    "\n",
    "print(all_df2.shape)\n",
    "all_df2.sample(5)"
   ]
  },
  {
   "cell_type": "markdown",
   "id": "64dfb0bd-b644-478a-92cf-71ee136ba012",
   "metadata": {},
   "source": [
    "## Numerical Features"
   ]
  },
  {
   "cell_type": "code",
   "execution_count": null,
   "id": "68dff7b2-0f27-4841-9cef-97789466170f",
   "metadata": {},
   "outputs": [],
   "source": []
  },
  {
   "cell_type": "code",
   "execution_count": null,
   "id": "bbdc2aae-b716-4b4c-bdfa-b9d61cbf36ae",
   "metadata": {},
   "outputs": [],
   "source": []
  },
  {
   "cell_type": "markdown",
   "id": "55c8391a-1bd9-4928-9b04-88cc1379fa46",
   "metadata": {},
   "source": [
    "## Categorical features\n",
    "- Not sure if there is a way to further categorize the data into bigger subgroups (i.e., segregating state to urban and rural areas)"
   ]
  },
  {
   "cell_type": "markdown",
   "id": "df86ad8a",
   "metadata": {},
   "source": [
    "## Job functions"
   ]
  },
  {
   "cell_type": "code",
   "execution_count": 87,
   "id": "436cb5f1-b1ad-4de7-9573-caca222c064d",
   "metadata": {
    "scrolled": true
   },
   "outputs": [
    {
     "data": {
      "image/png": "[encoded data removed]",
      "text/plain": [
       "<Figure size 432x288 with 1 Axes>"
      ]
     },
     "metadata": {},
     "output_type": "display_data"
    }
   ],
   "source": [
    "category = \"TYPE\"\n",
    "\n",
    "df_plt = all_df2[[\"YEAR\", category]].groupby([\"YEAR\", category], as_index = False).size().copy()\n",
    "df_plt = df_plt.pivot(index='YEAR', columns=category, values='size')\n",
    "ax = df_plt.plot.bar(stacked=True)"
   ]
  },
  {
   "cell_type": "code",
   "execution_count": 101,
   "id": "729f9f61",
   "metadata": {
    "scrolled": true
   },
   "outputs": [
    {
     "data": {
      "image/png": "[encoded data removed]",
      "text/plain": [
       "<Figure size 432x288 with 1 Axes>"
      ]
     },
     "metadata": {},
     "output_type": "display_data"
    }
   ],
   "source": [
    "df3 = all_df2.copy()\n",
    "core_cat = [\"research scientist\", \"data scientist\", \"data analyst\", \"data engineer\"]\n",
    "df3['TYPE'].mask(~df3[\"TYPE\"].isin(core_cat) ,'others', inplace=True)\n",
    "\n",
    "df_plt = df3[[\"YEAR\", category]].groupby([\"YEAR\", category], as_index = False).size().copy()\n",
    "df_plt = df_plt.pivot(index='YEAR', columns=category, values='size')\n",
    "ax = df_plt.plot.bar(stacked=True)"
   ]
  },
  {
   "cell_type": "markdown",
   "id": "ceecf8fb",
   "metadata": {},
   "source": [
    "Those not of major classes can form 1 class called \"others\""
   ]
  },
  {
   "cell_type": "code",
   "execution_count": 102,
   "id": "34b40f9b",
   "metadata": {
    "scrolled": true
   },
   "outputs": [
    {
     "data": {
      "image/png": "[encoded data removed]",
      "text/plain": [
       "<Figure size 432x288 with 1 Axes>"
      ]
     },
     "metadata": {},
     "output_type": "display_data"
    }
   ],
   "source": [
    "# get median wage of each job role for each year\n",
    "df_plt = df3[[\"YEAR\", category, \"y\"]].groupby([\"YEAR\", category], as_index = False).apply(lambda x:x.iloc[len(x)//2])\n",
    "df_plt = df_plt.pivot(index='YEAR', columns=category, values='y')\n",
    "ax = df_plt.plot.bar()"
   ]
  },
  {
   "cell_type": "markdown",
   "id": "5c69fe9a",
   "metadata": {},
   "source": [
    "## State"
   ]
  },
  {
   "cell_type": "code",
   "execution_count": 103,
   "id": "e002b6eb",
   "metadata": {},
   "outputs": [
    {
     "data": {
      "text/html": [
       "<div>\n",
       "<style scoped>\n",
       "    .dataframe tbody tr th:only-of-type {\n",
       "        vertical-align: middle;\n",
       "    }\n",
       "\n",
       "    .dataframe tbody tr th {\n",
       "        vertical-align: top;\n",
       "    }\n",
       "\n",
       "    .dataframe thead th {\n",
       "        text-align: right;\n",
       "    }\n",
       "</style>\n",
       "<table border=\"1\" class=\"dataframe\">\n",
       "  <thead>\n",
       "    <tr style=\"text-align: right;\">\n",
       "      <th></th>\n",
       "      <th>YEAR</th>\n",
       "      <th>STATE</th>\n",
       "      <th>size</th>\n",
       "    </tr>\n",
       "  </thead>\n",
       "  <tbody>\n",
       "    <tr>\n",
       "      <th>0</th>\n",
       "      <td>2013</td>\n",
       "      <td>CA</td>\n",
       "      <td>1</td>\n",
       "    </tr>\n",
       "    <tr>\n",
       "      <th>1</th>\n",
       "      <td>2013</td>\n",
       "      <td>MA</td>\n",
       "      <td>2</td>\n",
       "    </tr>\n",
       "    <tr>\n",
       "      <th>2</th>\n",
       "      <td>2013</td>\n",
       "      <td>VA</td>\n",
       "      <td>1</td>\n",
       "    </tr>\n",
       "    <tr>\n",
       "      <th>3</th>\n",
       "      <td>2013</td>\n",
       "      <td>WA</td>\n",
       "      <td>3</td>\n",
       "    </tr>\n",
       "    <tr>\n",
       "      <th>4</th>\n",
       "      <td>2014</td>\n",
       "      <td>CA</td>\n",
       "      <td>5</td>\n",
       "    </tr>\n",
       "    <tr>\n",
       "      <th>...</th>\n",
       "      <td>...</td>\n",
       "      <td>...</td>\n",
       "      <td>...</td>\n",
       "    </tr>\n",
       "    <tr>\n",
       "      <th>472</th>\n",
       "      <td>2024</td>\n",
       "      <td>TX</td>\n",
       "      <td>33</td>\n",
       "    </tr>\n",
       "    <tr>\n",
       "      <th>473</th>\n",
       "      <td>2024</td>\n",
       "      <td>UT</td>\n",
       "      <td>1</td>\n",
       "    </tr>\n",
       "    <tr>\n",
       "      <th>474</th>\n",
       "      <td>2024</td>\n",
       "      <td>VA</td>\n",
       "      <td>13</td>\n",
       "    </tr>\n",
       "    <tr>\n",
       "      <th>475</th>\n",
       "      <td>2024</td>\n",
       "      <td>WA</td>\n",
       "      <td>73</td>\n",
       "    </tr>\n",
       "    <tr>\n",
       "      <th>476</th>\n",
       "      <td>2024</td>\n",
       "      <td>WI</td>\n",
       "      <td>1</td>\n",
       "    </tr>\n",
       "  </tbody>\n",
       "</table>\n",
       "<p>477 rows × 3 columns</p>\n",
       "</div>"
      ],
      "text/plain": [
       "     YEAR STATE  size\n",
       "0    2013    CA     1\n",
       "1    2013    MA     2\n",
       "2    2013    VA     1\n",
       "3    2013    WA     3\n",
       "4    2014    CA     5\n",
       "..    ...   ...   ...\n",
       "472  2024    TX    33\n",
       "473  2024    UT     1\n",
       "474  2024    VA    13\n",
       "475  2024    WA    73\n",
       "476  2024    WI     1\n",
       "\n",
       "[477 rows x 3 columns]"
      ]
     },
     "execution_count": 103,
     "metadata": {},
     "output_type": "execute_result"
    }
   ],
   "source": [
    "category = \"STATE\"\n",
    "\n",
    "df_plt = all_df2[[\"YEAR\", category]].groupby([\"YEAR\", category], as_index = False).size().copy()\n",
    "df_plt"
   ]
  },
  {
   "cell_type": "code",
   "execution_count": 76,
   "id": "abd3eb95",
   "metadata": {},
   "outputs": [
    {
     "data": {
      "text/html": [
       "<div>\n",
       "<style scoped>\n",
       "    .dataframe tbody tr th:only-of-type {\n",
       "        vertical-align: middle;\n",
       "    }\n",
       "\n",
       "    .dataframe tbody tr th {\n",
       "        vertical-align: top;\n",
       "    }\n",
       "\n",
       "    .dataframe thead th {\n",
       "        text-align: right;\n",
       "    }\n",
       "</style>\n",
       "<table border=\"1\" class=\"dataframe\">\n",
       "  <thead>\n",
       "    <tr style=\"text-align: right;\">\n",
       "      <th>TYPE</th>\n",
       "      <th>ai architect</th>\n",
       "      <th>business data analyst</th>\n",
       "      <th>data analyst</th>\n",
       "      <th>data analytics</th>\n",
       "      <th>data engineer</th>\n",
       "      <th>data insights</th>\n",
       "      <th>data scientist</th>\n",
       "      <th>machine learning</th>\n",
       "      <th>ml engineer</th>\n",
       "      <th>research scientist</th>\n",
       "    </tr>\n",
       "    <tr>\n",
       "      <th>YEAR</th>\n",
       "      <th></th>\n",
       "      <th></th>\n",
       "      <th></th>\n",
       "      <th></th>\n",
       "      <th></th>\n",
       "      <th></th>\n",
       "      <th></th>\n",
       "      <th></th>\n",
       "      <th></th>\n",
       "      <th></th>\n",
       "    </tr>\n",
       "  </thead>\n",
       "  <tbody>\n",
       "    <tr>\n",
       "      <th>2013</th>\n",
       "      <td>NaN</td>\n",
       "      <td>NaN</td>\n",
       "      <td>1.0</td>\n",
       "      <td>NaN</td>\n",
       "      <td>2.0</td>\n",
       "      <td>NaN</td>\n",
       "      <td>1.0</td>\n",
       "      <td>1.0</td>\n",
       "      <td>NaN</td>\n",
       "      <td>2.0</td>\n",
       "    </tr>\n",
       "    <tr>\n",
       "      <th>2014</th>\n",
       "      <td>NaN</td>\n",
       "      <td>NaN</td>\n",
       "      <td>3.0</td>\n",
       "      <td>NaN</td>\n",
       "      <td>3.0</td>\n",
       "      <td>NaN</td>\n",
       "      <td>2.0</td>\n",
       "      <td>NaN</td>\n",
       "      <td>NaN</td>\n",
       "      <td>9.0</td>\n",
       "    </tr>\n",
       "    <tr>\n",
       "      <th>2015</th>\n",
       "      <td>NaN</td>\n",
       "      <td>8.0</td>\n",
       "      <td>92.0</td>\n",
       "      <td>12.0</td>\n",
       "      <td>45.0</td>\n",
       "      <td>1.0</td>\n",
       "      <td>75.0</td>\n",
       "      <td>6.0</td>\n",
       "      <td>NaN</td>\n",
       "      <td>93.0</td>\n",
       "    </tr>\n",
       "    <tr>\n",
       "      <th>2016</th>\n",
       "      <td>NaN</td>\n",
       "      <td>113.0</td>\n",
       "      <td>1616.0</td>\n",
       "      <td>47.0</td>\n",
       "      <td>365.0</td>\n",
       "      <td>10.0</td>\n",
       "      <td>938.0</td>\n",
       "      <td>41.0</td>\n",
       "      <td>NaN</td>\n",
       "      <td>946.0</td>\n",
       "    </tr>\n",
       "    <tr>\n",
       "      <th>2017</th>\n",
       "      <td>NaN</td>\n",
       "      <td>114.0</td>\n",
       "      <td>1538.0</td>\n",
       "      <td>94.0</td>\n",
       "      <td>662.0</td>\n",
       "      <td>14.0</td>\n",
       "      <td>1419.0</td>\n",
       "      <td>121.0</td>\n",
       "      <td>NaN</td>\n",
       "      <td>1029.0</td>\n",
       "    </tr>\n",
       "    <tr>\n",
       "      <th>2018</th>\n",
       "      <td>NaN</td>\n",
       "      <td>111.0</td>\n",
       "      <td>1689.0</td>\n",
       "      <td>108.0</td>\n",
       "      <td>1030.0</td>\n",
       "      <td>4.0</td>\n",
       "      <td>2264.0</td>\n",
       "      <td>258.0</td>\n",
       "      <td>1.0</td>\n",
       "      <td>1228.0</td>\n",
       "    </tr>\n",
       "    <tr>\n",
       "      <th>2019</th>\n",
       "      <td>1.0</td>\n",
       "      <td>136.0</td>\n",
       "      <td>2011.0</td>\n",
       "      <td>179.0</td>\n",
       "      <td>1719.0</td>\n",
       "      <td>7.0</td>\n",
       "      <td>3130.0</td>\n",
       "      <td>510.0</td>\n",
       "      <td>13.0</td>\n",
       "      <td>1540.0</td>\n",
       "    </tr>\n",
       "    <tr>\n",
       "      <th>2020</th>\n",
       "      <td>1.0</td>\n",
       "      <td>118.0</td>\n",
       "      <td>1847.0</td>\n",
       "      <td>141.0</td>\n",
       "      <td>2473.0</td>\n",
       "      <td>8.0</td>\n",
       "      <td>3442.0</td>\n",
       "      <td>619.0</td>\n",
       "      <td>17.0</td>\n",
       "      <td>1750.0</td>\n",
       "    </tr>\n",
       "    <tr>\n",
       "      <th>2021</th>\n",
       "      <td>1.0</td>\n",
       "      <td>135.0</td>\n",
       "      <td>1994.0</td>\n",
       "      <td>214.0</td>\n",
       "      <td>3464.0</td>\n",
       "      <td>19.0</td>\n",
       "      <td>3914.0</td>\n",
       "      <td>913.0</td>\n",
       "      <td>38.0</td>\n",
       "      <td>1876.0</td>\n",
       "    </tr>\n",
       "    <tr>\n",
       "      <th>2022</th>\n",
       "      <td>2.0</td>\n",
       "      <td>122.0</td>\n",
       "      <td>2098.0</td>\n",
       "      <td>207.0</td>\n",
       "      <td>4591.0</td>\n",
       "      <td>7.0</td>\n",
       "      <td>4193.0</td>\n",
       "      <td>1090.0</td>\n",
       "      <td>31.0</td>\n",
       "      <td>1995.0</td>\n",
       "    </tr>\n",
       "    <tr>\n",
       "      <th>2023</th>\n",
       "      <td>NaN</td>\n",
       "      <td>142.0</td>\n",
       "      <td>1665.0</td>\n",
       "      <td>204.0</td>\n",
       "      <td>3811.0</td>\n",
       "      <td>8.0</td>\n",
       "      <td>3160.0</td>\n",
       "      <td>913.0</td>\n",
       "      <td>8.0</td>\n",
       "      <td>1876.0</td>\n",
       "    </tr>\n",
       "    <tr>\n",
       "      <th>2024</th>\n",
       "      <td>NaN</td>\n",
       "      <td>NaN</td>\n",
       "      <td>19.0</td>\n",
       "      <td>12.0</td>\n",
       "      <td>118.0</td>\n",
       "      <td>NaN</td>\n",
       "      <td>99.0</td>\n",
       "      <td>33.0</td>\n",
       "      <td>NaN</td>\n",
       "      <td>60.0</td>\n",
       "    </tr>\n",
       "  </tbody>\n",
       "</table>\n",
       "</div>"
      ],
      "text/plain": [
       "TYPE  ai architect  business data analyst  data analyst  data analytics  \\\n",
       "YEAR                                                                      \n",
       "2013           NaN                    NaN           1.0             NaN   \n",
       "2014           NaN                    NaN           3.0             NaN   \n",
       "2015           NaN                    8.0          92.0            12.0   \n",
       "2016           NaN                  113.0        1616.0            47.0   \n",
       "2017           NaN                  114.0        1538.0            94.0   \n",
       "2018           NaN                  111.0        1689.0           108.0   \n",
       "2019           1.0                  136.0        2011.0           179.0   \n",
       "2020           1.0                  118.0        1847.0           141.0   \n",
       "2021           1.0                  135.0        1994.0           214.0   \n",
       "2022           2.0                  122.0        2098.0           207.0   \n",
       "2023           NaN                  142.0        1665.0           204.0   \n",
       "2024           NaN                    NaN          19.0            12.0   \n",
       "\n",
       "TYPE  data engineer  data insights  data scientist  machine learning  \\\n",
       "YEAR                                                                   \n",
       "2013            2.0            NaN             1.0               1.0   \n",
       "2014            3.0            NaN             2.0               NaN   \n",
       "2015           45.0            1.0            75.0               6.0   \n",
       "2016          365.0           10.0           938.0              41.0   \n",
       "2017          662.0           14.0          1419.0             121.0   \n",
       "2018         1030.0            4.0          2264.0             258.0   \n",
       "2019         1719.0            7.0          3130.0             510.0   \n",
       "2020         2473.0            8.0          3442.0             619.0   \n",
       "2021         3464.0           19.0          3914.0             913.0   \n",
       "2022         4591.0            7.0          4193.0            1090.0   \n",
       "2023         3811.0            8.0          3160.0             913.0   \n",
       "2024          118.0            NaN            99.0              33.0   \n",
       "\n",
       "TYPE  ml engineer  research scientist  \n",
       "YEAR                                   \n",
       "2013          NaN                 2.0  \n",
       "2014          NaN                 9.0  \n",
       "2015          NaN                93.0  \n",
       "2016          NaN               946.0  \n",
       "2017          NaN              1029.0  \n",
       "2018          1.0              1228.0  \n",
       "2019         13.0              1540.0  \n",
       "2020         17.0              1750.0  \n",
       "2021         38.0              1876.0  \n",
       "2022         31.0              1995.0  \n",
       "2023          8.0              1876.0  \n",
       "2024          NaN                60.0  "
      ]
     },
     "execution_count": 76,
     "metadata": {},
     "output_type": "execute_result"
    }
   ],
   "source": [
    "df_plt = all_df2[[\"YEAR\", \"TYPE\"]].groupby([\"YEAR\", \"TYPE\"], as_index = False).size().copy()\n",
    "df_plt.pivot(index='YEAR', columns='TYPE', values='size')"
   ]
  },
  {
   "cell_type": "code",
   "execution_count": 54,
   "id": "2f71c532-b833-4cc7-9381-41644dd8083f",
   "metadata": {},
   "outputs": [
    {
     "data": {
      "text/plain": [
       "EMPLOYER        YEAR\n",
       "0956588 BC LTD  2017    4\n",
       "                2018    3\n",
       "0965688 BC LTD  2018    1\n",
       "                2019    5\n",
       "                2020    1\n",
       "                       ..\n",
       "ZYWIE INC       2023    1\n",
       "ZZZ'S INC       2019    1\n",
       "[24]7AI INC     2020    1\n",
       "                2021    1\n",
       "â ISTACK LLC   2020    1\n",
       "Length: 25320, dtype: int64"
      ]
     },
     "execution_count": 54,
     "metadata": {},
     "output_type": "execute_result"
    }
   ],
   "source": [
    "categorical_features = [\"EMPLOYER\", \"STATE\", \"TYPE\", \"YEAR\"]\n",
    "\n",
    "all_df2[[\"YEAR\", 'EMPLOYER']].groupby(['EMPLOYER', 'YEAR']).size()"
   ]
  },
  {
   "cell_type": "code",
   "execution_count": 42,
   "id": "38eb32d8",
   "metadata": {
    "scrolled": true
   },
   "outputs": [
    {
     "data": {
      "text/plain": [
       "2.0"
      ]
     },
     "execution_count": 42,
     "metadata": {},
     "output_type": "execute_result"
    }
   ],
   "source": [
    "np.quantile(all_df2[\"EMPLOYER\"].value_counts(), 0.5)"
   ]
  },
  {
   "cell_type": "code",
   "execution_count": 38,
   "id": "e6e8235a",
   "metadata": {},
   "outputs": [
    {
     "data": {
      "text/plain": [
       "4377.333333333333"
      ]
     },
     "execution_count": 38,
     "metadata": {},
     "output_type": "execute_result"
    }
   ],
   "source": [
    "len(list(all_df2[\"EMPLOYER\"].value_counts())) / 3"
   ]
  },
  {
   "cell_type": "code",
   "execution_count": 16,
   "id": "a2eb4f4c-c149-476d-9223-ac99632459b9",
   "metadata": {},
   "outputs": [
    {
     "data": {
      "text/plain": [
       "<AxesSubplot:>"
      ]
     },
     "execution_count": 16,
     "metadata": {},
     "output_type": "execute_result"
    },
    {
     "data": {
      "image/png": "[encoded data removed]",
      "text/plain": [
       "<Figure size 432x288 with 1 Axes>"
      ]
     },
     "metadata": {},
     "output_type": "display_data"
    }
   ],
   "source": [
    "all_df2[\"TYPE\"].value_counts().plot.bar()"
   ]
  },
  {
   "cell_type": "code",
   "execution_count": null,
   "id": "f374d792",
   "metadata": {},
   "outputs": [],
   "source": []
  }
 ],
 "metadata": {
  "kernelspec": {
   "display_name": "Python 3",
   "language": "python",
   "name": "python3"
  },
  "language_info": {
   "codemirror_mode": {
    "name": "ipython",
    "version": 3
   },
   "file_extension": ".py",
   "mimetype": "text/x-python",
   "name": "python",
   "nbconvert_exporter": "python",
   "pygments_lexer": "ipython3",
   "version": "3.8.8"
  }
 },
 "nbformat": 4,
 "nbformat_minor": 5
}
