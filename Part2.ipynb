{
 "cells": [
  {
   "cell_type": "code",
   "id": "ca689ea2",
   "metadata": {
    "ExecuteTime": {
     "end_time": "2024-05-22T14:37:06.814182Z",
     "start_time": "2024-05-22T14:37:06.788273Z"
    }
   },
   "source": [
    "from Utils.preprocessing import *\n",
    "from Utils.pipelineComponents import *\n",
    "from Utils.preprocessing import *\n",
    "\n",
    "import re\n",
    "import matplotlib.pyplot as plt\n",
    "import seaborn as sns\n",
    "sns.set(style='ticks')\n",
    "\n",
    "RANDOM_STATE = 2024"
   ],
   "outputs": [],
   "execution_count": 3
  },
  {
   "cell_type": "markdown",
   "id": "68fe60fe",
   "metadata": {},
   "source": [
    "# Webscraping Portion"
   ]
  },
  {
   "cell_type": "code",
   "id": "4e9d291e",
   "metadata": {
    "ExecuteTime": {
     "end_time": "2024-05-22T14:37:15.040319Z",
     "start_time": "2024-05-22T14:37:14.938334Z"
    }
   },
   "source": [
    "# Read prof's sample data to view format & data science roles\n",
    "sample_data_a = pd.read_csv(\"Data/jobs_in_data.csv\")\n",
    "sample_data_b = pd.read_csv(\"Data/QF632_Project_2_b.csv\")\n",
    "sample_data_c = pd.read_csv(\"Data/QF632_Project_2_c.csv\")\n",
    "sample_data_d = pd.read_csv(\"Data/Glassdoor_Salary_Cleaned_Version.csv\")"
   ],
   "outputs": [],
   "execution_count": 4
  },
  {
   "cell_type": "code",
   "id": "8038ad07",
   "metadata": {
    "ExecuteTime": {
     "end_time": "2024-05-22T14:38:34.313248Z",
     "start_time": "2024-05-22T14:37:30.830877Z"
    }
   },
   "source": [
    "base_url = \"https://h1bdata.info/index.php?em=&job=data+scientist&city=&year=all+years\"\n",
    "roles = [\"data scientists\", \"data analyst\", \"data storytellers\", \"data insights\", \"research scientist\", \"business data analyst\",\n",
    "        \"data analytics\", \"data engineer\", \"machine learning\", \"ml engineer\", \"ai architect\"]\n",
    "\n",
    "all_df = pd.DataFrame()\n",
    "for role in roles:\n",
    "    job = \"+\".join(role.split(\" \"))\n",
    "    url = base_url + \"/index.php?em=&job=\" + job + \"&city=&year=all+years\"\n",
    "    dfs_base = pd.read_html(url)\n",
    "    \n",
    "    # to include all other variations, add a '&'\n",
    "    url = base_url + \"/index.php?em=&job=\" + job + \"+&&city=&year=all+years\"\n",
    "    dfs_var = pd.read_html(url)\n",
    "    \n",
    "    temp_df = pd.concat([dfs_base[0], dfs_var[0]])\n",
    "    temp_df[\"TYPE\"] = role\n",
    "    \n",
    "    all_df = pd.concat([all_df, temp_df])\n",
    "\n",
    "print(all_df.shape)\n",
    "all_df.sample(5)"
   ],
   "outputs": [
    {
     "name": "stdout",
     "output_type": "stream",
     "text": [
      "(56733, 8)\n"
     ]
    },
    {
     "data": {
      "text/plain": [
       "                                   EMPLOYER  \\\n",
       "175                  HCL GLOBAL SYSTEMS INC   \n",
       "6845  MASSACHUSETTS INSTITUTE OF TECHNOLOGY   \n",
       "9026                     META PLATFORMS INC   \n",
       "3471                      DREXEL UNIVERSITY   \n",
       "4211                              APPLE INC   \n",
       "\n",
       "                               JOB TITLE BASE SALARY          LOCATION  \\\n",
       "175                        DATA ENGINEER       82640        PEORIA, IL   \n",
       "6845                  RESEARCH SCIENTIST      125000     CAMBRIDGE, MA   \n",
       "9026                  RESEARCH SCIENTIST      177716    MENLO PARK, CA   \n",
       "3471                  RESEARCH SCIENTIST       70000  PHILADELPHIA, PA   \n",
       "4211  MACHINE LEARNING RESEARCH ENGINEER      198890     CUPERTINO, CA   \n",
       "\n",
       "     SUBMIT DATE  START DATE                TYPE Unnamed: 6  \n",
       "175   03/21/2019  09/14/2019       data engineer        NaN  \n",
       "6845  04/14/2017  09/01/2017  research scientist        NaN  \n",
       "9026  08/18/2023  10/01/2023  research scientist        NaN  \n",
       "3471  02/21/2023  04/01/2023  research scientist        NaN  \n",
       "4211  12/19/2022  03/28/2023    machine learning        NaN  "
      ],
      "text/html": [
       "<div>\n",
       "<style scoped>\n",
       "    .dataframe tbody tr th:only-of-type {\n",
       "        vertical-align: middle;\n",
       "    }\n",
       "\n",
       "    .dataframe tbody tr th {\n",
       "        vertical-align: top;\n",
       "    }\n",
       "\n",
       "    .dataframe thead th {\n",
       "        text-align: right;\n",
       "    }\n",
       "</style>\n",
       "<table border=\"1\" class=\"dataframe\">\n",
       "  <thead>\n",
       "    <tr style=\"text-align: right;\">\n",
       "      <th></th>\n",
       "      <th>EMPLOYER</th>\n",
       "      <th>JOB TITLE</th>\n",
       "      <th>BASE SALARY</th>\n",
       "      <th>LOCATION</th>\n",
       "      <th>SUBMIT DATE</th>\n",
       "      <th>START DATE</th>\n",
       "      <th>TYPE</th>\n",
       "      <th>Unnamed: 6</th>\n",
       "    </tr>\n",
       "  </thead>\n",
       "  <tbody>\n",
       "    <tr>\n",
       "      <th>175</th>\n",
       "      <td>HCL GLOBAL SYSTEMS INC</td>\n",
       "      <td>DATA ENGINEER</td>\n",
       "      <td>82640</td>\n",
       "      <td>PEORIA, IL</td>\n",
       "      <td>03/21/2019</td>\n",
       "      <td>09/14/2019</td>\n",
       "      <td>data engineer</td>\n",
       "      <td>NaN</td>\n",
       "    </tr>\n",
       "    <tr>\n",
       "      <th>6845</th>\n",
       "      <td>MASSACHUSETTS INSTITUTE OF TECHNOLOGY</td>\n",
       "      <td>RESEARCH SCIENTIST</td>\n",
       "      <td>125000</td>\n",
       "      <td>CAMBRIDGE, MA</td>\n",
       "      <td>04/14/2017</td>\n",
       "      <td>09/01/2017</td>\n",
       "      <td>research scientist</td>\n",
       "      <td>NaN</td>\n",
       "    </tr>\n",
       "    <tr>\n",
       "      <th>9026</th>\n",
       "      <td>META PLATFORMS INC</td>\n",
       "      <td>RESEARCH SCIENTIST</td>\n",
       "      <td>177716</td>\n",
       "      <td>MENLO PARK, CA</td>\n",
       "      <td>08/18/2023</td>\n",
       "      <td>10/01/2023</td>\n",
       "      <td>research scientist</td>\n",
       "      <td>NaN</td>\n",
       "    </tr>\n",
       "    <tr>\n",
       "      <th>3471</th>\n",
       "      <td>DREXEL UNIVERSITY</td>\n",
       "      <td>RESEARCH SCIENTIST</td>\n",
       "      <td>70000</td>\n",
       "      <td>PHILADELPHIA, PA</td>\n",
       "      <td>02/21/2023</td>\n",
       "      <td>04/01/2023</td>\n",
       "      <td>research scientist</td>\n",
       "      <td>NaN</td>\n",
       "    </tr>\n",
       "    <tr>\n",
       "      <th>4211</th>\n",
       "      <td>APPLE INC</td>\n",
       "      <td>MACHINE LEARNING RESEARCH ENGINEER</td>\n",
       "      <td>198890</td>\n",
       "      <td>CUPERTINO, CA</td>\n",
       "      <td>12/19/2022</td>\n",
       "      <td>03/28/2023</td>\n",
       "      <td>machine learning</td>\n",
       "      <td>NaN</td>\n",
       "    </tr>\n",
       "  </tbody>\n",
       "</table>\n",
       "</div>"
      ]
     },
     "execution_count": 6,
     "metadata": {},
     "output_type": "execute_result"
    }
   ],
   "execution_count": 6
  },
  {
   "cell_type": "markdown",
   "id": "b4c63900",
   "metadata": {},
   "source": [
    "# Data Analysis"
   ]
  },
  {
   "cell_type": "code",
   "execution_count": 47,
   "id": "76d1e12a",
   "metadata": {},
   "outputs": [
    {
     "name": "stdout",
     "output_type": "stream",
     "text": [
      "(52246, 9)\n"
     ]
    },
    {
     "data": {
      "text/html": [
       "<div>\n",
       "<style scoped>\n",
       "    .dataframe tbody tr th:only-of-type {\n",
       "        vertical-align: middle;\n",
       "    }\n",
       "\n",
       "    .dataframe tbody tr th {\n",
       "        vertical-align: top;\n",
       "    }\n",
       "\n",
       "    .dataframe thead th {\n",
       "        text-align: right;\n",
       "    }\n",
       "</style>\n",
       "<table border=\"1\" class=\"dataframe\">\n",
       "  <thead>\n",
       "    <tr style=\"text-align: right;\">\n",
       "      <th></th>\n",
       "      <th>EMPLOYER</th>\n",
       "      <th>JOB TITLE</th>\n",
       "      <th>y</th>\n",
       "      <th>LOCATION</th>\n",
       "      <th>SUBMIT DATE</th>\n",
       "      <th>START DATE</th>\n",
       "      <th>TYPE</th>\n",
       "      <th>YEAR</th>\n",
       "      <th>STATE</th>\n",
       "    </tr>\n",
       "  </thead>\n",
       "  <tbody>\n",
       "    <tr>\n",
       "      <th>26471</th>\n",
       "      <td>AMAZONCOM SERVICES LLC</td>\n",
       "      <td>RESEARCH SCIENTIST II</td>\n",
       "      <td>185.0</td>\n",
       "      <td>NEW YORK, NY</td>\n",
       "      <td>2022-06-14</td>\n",
       "      <td>2022-06-19</td>\n",
       "      <td>research scientist</td>\n",
       "      <td>2022</td>\n",
       "      <td>NY</td>\n",
       "    </tr>\n",
       "    <tr>\n",
       "      <th>51469</th>\n",
       "      <td>SITUATION PUBLISHING LIMITED INC</td>\n",
       "      <td>MACHINE LEARNING REPORTER</td>\n",
       "      <td>70.0</td>\n",
       "      <td>SAN FRANCISCO, CA</td>\n",
       "      <td>2021-06-18</td>\n",
       "      <td>2021-10-01</td>\n",
       "      <td>machine learning</td>\n",
       "      <td>2021</td>\n",
       "      <td>CA</td>\n",
       "    </tr>\n",
       "    <tr>\n",
       "      <th>49462</th>\n",
       "      <td>UPSTART NETWORK INC</td>\n",
       "      <td>MACHINE LEARNING ENGINEER</td>\n",
       "      <td>155.0</td>\n",
       "      <td>JERSEY CITY, NJ</td>\n",
       "      <td>2020-11-09</td>\n",
       "      <td>2020-12-01</td>\n",
       "      <td>machine learning</td>\n",
       "      <td>2020</td>\n",
       "      <td>NJ</td>\n",
       "    </tr>\n",
       "    <tr>\n",
       "      <th>25350</th>\n",
       "      <td>AMAZON FULFILLMENT SERVICES INC</td>\n",
       "      <td>RESEARCH SCIENTIST I</td>\n",
       "      <td>120.0</td>\n",
       "      <td>SUNNYVALE, CA</td>\n",
       "      <td>2017-10-16</td>\n",
       "      <td>2017-10-30</td>\n",
       "      <td>research scientist</td>\n",
       "      <td>2017</td>\n",
       "      <td>CA</td>\n",
       "    </tr>\n",
       "    <tr>\n",
       "      <th>7545</th>\n",
       "      <td>ULAB INC</td>\n",
       "      <td>DATA ANALYST</td>\n",
       "      <td>85.0</td>\n",
       "      <td>PLANO, TX</td>\n",
       "      <td>2018-03-21</td>\n",
       "      <td>2018-09-01</td>\n",
       "      <td>data analyst</td>\n",
       "      <td>2018</td>\n",
       "      <td>TX</td>\n",
       "    </tr>\n",
       "  </tbody>\n",
       "</table>\n",
       "</div>"
      ],
      "text/plain": [
       "                               EMPLOYER                  JOB TITLE      y  \\\n",
       "26471            AMAZONCOM SERVICES LLC      RESEARCH SCIENTIST II  185.0   \n",
       "51469  SITUATION PUBLISHING LIMITED INC  MACHINE LEARNING REPORTER   70.0   \n",
       "49462               UPSTART NETWORK INC  MACHINE LEARNING ENGINEER  155.0   \n",
       "25350   AMAZON FULFILLMENT SERVICES INC       RESEARCH SCIENTIST I  120.0   \n",
       "7545                           ULAB INC               DATA ANALYST   85.0   \n",
       "\n",
       "                LOCATION SUBMIT DATE START DATE                TYPE  YEAR  \\\n",
       "26471       NEW YORK, NY  2022-06-14 2022-06-19  research scientist  2022   \n",
       "51469  SAN FRANCISCO, CA  2021-06-18 2021-10-01    machine learning  2021   \n",
       "49462    JERSEY CITY, NJ  2020-11-09 2020-12-01    machine learning  2020   \n",
       "25350      SUNNYVALE, CA  2017-10-16 2017-10-30  research scientist  2017   \n",
       "7545           PLANO, TX  2018-03-21 2018-09-01        data analyst  2018   \n",
       "\n",
       "      STATE  \n",
       "26471    NY  \n",
       "51469    CA  \n",
       "49462    NJ  \n",
       "25350    CA  \n",
       "7545     TX  "
      ]
     },
     "execution_count": 47,
     "metadata": {},
     "output_type": "execute_result"
    }
   ],
   "source": [
    "all_df[\"START DATE\"] = pd.to_datetime(all_df[\"START DATE\"], errors='coerce')\n",
    "all_df[\"SUBMIT DATE\"] = pd.to_datetime(all_df[\"SUBMIT DATE\"], errors='coerce')\n",
    "all_df = all_df.drop_duplicates()\n",
    "\n",
    "# Remove all non-numeric \"y\" values\n",
    "all_df2 = all_df[pd.to_numeric(all_df['BASE SALARY'], errors='coerce').notnull()].copy()\n",
    "\n",
    "# all_df2 = all_df.dropna(subset = [\"BASE SALARY\"]).copy()\n",
    "all_df2 = all_df2.iloc[:, :-1].reset_index(drop=True)\n",
    "all_df2[\"YEAR\"] = pd.DatetimeIndex(all_df2['START DATE']).year\n",
    "\n",
    "# To get state, first remove all symbols, then take the last two letters\n",
    "regex = re.compile('[^a-zA-Z]')\n",
    "all_df2['STATE'] = all_df2.LOCATION.apply(lambda x:regex.sub('', x)[-2:])\n",
    "all_df2 = all_df2.rename(columns={\"BASE SALARY\":\"y\"})\n",
    "all_df2[\"y\"] =  pd.to_numeric(all_df2[\"y\"]) / 1000\n",
    "\n",
    "print(all_df2.shape)\n",
    "all_df2.sample(5)"
   ]
  },
  {
   "cell_type": "markdown",
   "id": "64dfb0bd-b644-478a-92cf-71ee136ba012",
   "metadata": {},
   "source": [
    "## Numerical Features"
   ]
  },
  {
   "cell_type": "code",
   "execution_count": null,
   "id": "68dff7b2-0f27-4841-9cef-97789466170f",
   "metadata": {},
   "outputs": [],
   "source": []
  },
  {
   "cell_type": "code",
   "execution_count": null,
   "id": "bbdc2aae-b716-4b4c-bdfa-b9d61cbf36ae",
   "metadata": {},
   "outputs": [],
   "source": []
  },
  {
   "cell_type": "markdown",
   "id": "55c8391a-1bd9-4928-9b04-88cc1379fa46",
   "metadata": {},
   "source": [
    "## Categorical features\n",
    "- Not sure if there is a way to further categorize the data into bigger subgroups (i.e., segregating state to urban and rural areas)"
   ]
  },
  {
   "cell_type": "code",
   "execution_count": 49,
   "id": "436cb5f1-b1ad-4de7-9573-caca222c064d",
   "metadata": {},
   "outputs": [
    {
     "data": {
      "image/png": "[encoded data removed]",
      "text/plain": [
       "<Figure size 805x500 with 1 Axes>"
      ]
     },
     "metadata": {},
     "output_type": "display_data"
    }
   ],
   "source": [
    "sns.relplot(data=all_df2, x='YEAR', y='y',aspect=1.61)\n",
    "plt.show()"
   ]
  },
  {
   "cell_type": "code",
   "execution_count": null,
   "id": "2f71c532-b833-4cc7-9381-41644dd8083f",
   "metadata": {},
   "outputs": [],
   "source": [
    "sns.set(style='ticks')\n",
    "\n",
    "sns.relplot(data=all_df2, x='YEAR', y='y', hue='STATE',aspect=1.61)\n",
    "plt.show()"
   ]
  },
  {
   "cell_type": "code",
   "execution_count": null,
   "id": "a2eb4f4c-c149-476d-9223-ac99632459b9",
   "metadata": {},
   "outputs": [],
   "source": []
  },
  {
   "cell_type": "code",
   "execution_count": null,
   "id": "ebcca523",
   "metadata": {},
   "outputs": [],
   "source": []
  },
  {
   "cell_type": "code",
   "execution_count": null,
   "id": "f374d792",
   "metadata": {},
   "outputs": [],
   "source": []
  }
 ],
 "metadata": {
  "kernelspec": {
   "display_name": "Python 3 (ipykernel)",
   "language": "python",
   "name": "python3"
  },
  "language_info": {
   "codemirror_mode": {
    "name": "ipython",
    "version": 3
   },
   "file_extension": ".py",
   "mimetype": "text/x-python",
   "name": "python",
   "nbconvert_exporter": "python",
   "pygments_lexer": "ipython3",
   "version": "3.11.4"
  }
 },
 "nbformat": 4,
 "nbformat_minor": 5
}
