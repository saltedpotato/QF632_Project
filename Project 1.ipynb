{
 "cells": [
  {
   "metadata": {},
   "cell_type": "markdown",
   "source": "# Academic Style for Part 1",
   "id": "5cde01a698684f09"
  },
  {
   "cell_type": "code",
   "id": "cfcbea2a",
   "metadata": {
    "ExecuteTime": {
     "end_time": "2024-05-26T05:13:12.722495Z",
     "start_time": "2024-05-26T05:13:12.706677Z"
    }
   },
   "source": [
    "# Importing necessary libraries for data cleaning and exploration\n",
    "import pandas as pd\n",
    "import numpy as np\n",
    "import matplotlib.pyplot as plt\n",
    "import seaborn as sns\n",
    "from scipy import stats"
   ],
   "outputs": [],
   "execution_count": 1
  },
  {
   "cell_type": "code",
   "id": "921ffc32",
   "metadata": {
    "ExecuteTime": {
     "end_time": "2024-05-26T05:13:12.738510Z",
     "start_time": "2024-05-26T05:13:12.723495Z"
    }
   },
   "source": [
    "# Load the dataset\n",
    "df = pd.read_csv('Data/QF632_Project_1.csv')"
   ],
   "outputs": [],
   "execution_count": 2
  },
  {
   "cell_type": "code",
   "id": "079374af",
   "metadata": {
    "ExecuteTime": {
     "end_time": "2024-05-26T05:13:12.754512Z",
     "start_time": "2024-05-26T05:13:12.738510Z"
    }
   },
   "source": [
    "# Examine the structure and summary\n",
    "print(df.info())\n",
    "print(df.describe())"
   ],
   "outputs": [
    {
     "name": "stdout",
     "output_type": "stream",
     "text": [
      "<class 'pandas.core.frame.DataFrame'>\n",
      "RangeIndex: 1038 entries, 0 to 1037\n",
      "Data columns (total 7 columns):\n",
      " #   Column     Non-Null Count  Dtype  \n",
      "---  ------     --------------  -----  \n",
      " 0   Date       1038 non-null   object \n",
      " 1   Signal     1038 non-null   float64\n",
      " 2   Open       1038 non-null   float64\n",
      " 3   High       1038 non-null   float64\n",
      " 4   Low        1038 non-null   float64\n",
      " 5   Close      1038 non-null   float64\n",
      " 6   Adj Close  1038 non-null   float64\n",
      "dtypes: float64(6), object(1)\n",
      "memory usage: 56.9+ KB\n",
      "None\n",
      "            Signal         Open         High          Low        Close  \\\n",
      "count  1038.000000  1038.000000  1038.000000  1038.000000  1038.000000   \n",
      "mean     16.766190   141.847360   142.691801   140.907746   141.840973   \n",
      "std       3.095783    18.475574    18.470255    18.404504    18.497010   \n",
      "min       0.000000    94.080002    95.400002    93.639999    94.790001   \n",
      "25%      14.691150   132.132496   132.912495   130.542503   131.824993   \n",
      "50%      17.298240   146.769997   147.959999   145.634995   146.885002   \n",
      "75%      19.030890   155.367496   156.287495   154.422500   155.289993   \n",
      "max      35.434147   172.789993   173.389999   171.949997   196.279999   \n",
      "\n",
      "         Adj Close  \n",
      "count  1038.000000  \n",
      "mean    136.341060  \n",
      "std      21.427837  \n",
      "min    -152.277847  \n",
      "25%     125.290491  \n",
      "50%     142.667732  \n",
      "75%     151.798325  \n",
      "max     168.842270  \n"
     ]
    }
   ],
   "execution_count": 3
  },
  {
   "cell_type": "code",
   "id": "c54ae131",
   "metadata": {
    "ExecuteTime": {
     "end_time": "2024-05-26T05:13:12.769511Z",
     "start_time": "2024-05-26T05:13:12.754512Z"
    }
   },
   "source": [
    "# Check for missing values\n",
    "missing_values = df.isnull().sum()\n",
    "print(\"Missing values per column:\\n\", missing_values)"
   ],
   "outputs": [
    {
     "name": "stdout",
     "output_type": "stream",
     "text": [
      "Missing values per column:\n",
      " Date         0\n",
      "Signal       0\n",
      "Open         0\n",
      "High         0\n",
      "Low          0\n",
      "Close        0\n",
      "Adj Close    0\n",
      "dtype: int64\n"
     ]
    }
   ],
   "execution_count": 4
  },
  {
   "cell_type": "code",
   "id": "6433e036",
   "metadata": {
    "ExecuteTime": {
     "end_time": "2024-05-26T05:13:12.785510Z",
     "start_time": "2024-05-26T05:13:12.770512Z"
    }
   },
   "source": [
    "# Check for duplicates\n",
    "duplicates = df.duplicated().sum()\n",
    "print(\"Number of duplicate rows:\", duplicates)"
   ],
   "outputs": [
    {
     "name": "stdout",
     "output_type": "stream",
     "text": [
      "Number of duplicate rows: 0\n"
     ]
    }
   ],
   "execution_count": 5
  },
  {
   "cell_type": "code",
   "id": "19c48009",
   "metadata": {
    "ExecuteTime": {
     "end_time": "2024-05-26T05:13:12.831512Z",
     "start_time": "2024-05-26T05:13:12.786511Z"
    }
   },
   "source": [
    "# Ensure dates are in the right format and sequence\n",
    "date_check = df['Date'].apply(pd.to_datetime, errors='coerce').isnull().sum()\n",
    "print(f\"Invalid dates: {date_check}\")\n",
    "\n",
    "# Check for date sequence issues\n",
    "df['Date'] = pd.to_datetime(df['Date'], errors='coerce')\n",
    "date_order_issues = (df['Date'] != df['Date'].sort_values()).any()\n",
    "if date_order_issues:\n",
    "    print(\"Dates are out of order\")\n",
    "else:\n",
    "    print(\"Dates are in correct order\")\n"
   ],
   "outputs": [
    {
     "name": "stdout",
     "output_type": "stream",
     "text": [
      "Invalid dates: 0\n",
      "Dates are in correct order\n"
     ]
    }
   ],
   "execution_count": 6
  },
  {
   "cell_type": "code",
   "id": "3e09e576",
   "metadata": {
    "ExecuteTime": {
     "end_time": "2024-05-26T05:13:12.846511Z",
     "start_time": "2024-05-26T05:13:12.832513Z"
    }
   },
   "source": [
    "# Ensure prices and signals are non-zero and positive\n",
    "\n",
    "price_columns_to_check = ['High', 'Low', 'Close', 'Adj Close']\n",
    "price_check = {col: (df[col] <= 0).sum() for col in price_columns_to_check}\n",
    "\n",
    "signal_check = (df['Signal'] <= 0).sum()\n",
    "\n",
    "print(f\"Negative/zero historical prices: {price_check}\")\n",
    "print(f\"Negative/zero signal values: {signal_check}\")"
   ],
   "outputs": [
    {
     "name": "stdout",
     "output_type": "stream",
     "text": [
      "Negative/zero historical prices: {'High': 0, 'Low': 0, 'Close': 0, 'Adj Close': 1}\n",
      "Negative/zero signal values: 6\n"
     ]
    }
   ],
   "execution_count": 7
  },
  {
   "cell_type": "code",
   "id": "ea4e77fc",
   "metadata": {
    "ExecuteTime": {
     "end_time": "2024-05-26T05:13:12.861513Z",
     "start_time": "2024-05-26T05:13:12.848513Z"
    }
   },
   "source": [
    "# Correcting negative/zero historical prices and signal values\n",
    "columns_to_check = price_columns_to_check + ['Signal']\n",
    "\n",
    "# Remove rows with zero values in the specified columns\n",
    "for col in columns_to_check:\n",
    "    df = df[df[col] != 0]\n",
    "    \n",
    "# Turn negative prices/values to positive\n",
    "for col in columns_to_check:\n",
    "    df[col] = df[col].abs()"
   ],
   "outputs": [],
   "execution_count": 8
  },
  {
   "cell_type": "code",
   "id": "51012e72",
   "metadata": {
    "ExecuteTime": {
     "end_time": "2024-05-26T05:13:12.877512Z",
     "start_time": "2024-05-26T05:13:12.863511Z"
    }
   },
   "source": [
    "# Verify changes made\n",
    "price_check = {col: (df[col] <= 0).sum() for col in price_columns_to_check}\n",
    "\n",
    "signal_check = (df['Signal'] <= 0).sum()\n",
    "\n",
    "print(f\"Negative/zero historical prices: {price_check}\")\n",
    "print(f\"Negative/zero signal values: {signal_check}\")"
   ],
   "outputs": [
    {
     "name": "stdout",
     "output_type": "stream",
     "text": [
      "Negative/zero historical prices: {'High': 0, 'Low': 0, 'Close': 0, 'Adj Close': 0}\n",
      "Negative/zero signal values: 0\n"
     ]
    }
   ],
   "execution_count": 9
  },
  {
   "cell_type": "code",
   "id": "906d84ec",
   "metadata": {
    "ExecuteTime": {
     "end_time": "2024-05-26T05:13:12.892511Z",
     "start_time": "2024-05-26T05:13:12.878511Z"
    }
   },
   "source": [
    "# Examine updated data structure and summary\n",
    "print(\"Updated Data Summary:\")\n",
    "print(df.info())\n",
    "print(df.describe())"
   ],
   "outputs": [
    {
     "name": "stdout",
     "output_type": "stream",
     "text": [
      "Updated Data Summary:\n",
      "<class 'pandas.core.frame.DataFrame'>\n",
      "Int64Index: 1032 entries, 0 to 1031\n",
      "Data columns (total 7 columns):\n",
      " #   Column     Non-Null Count  Dtype         \n",
      "---  ------     --------------  -----         \n",
      " 0   Date       1032 non-null   datetime64[ns]\n",
      " 1   Signal     1032 non-null   float64       \n",
      " 2   Open       1032 non-null   float64       \n",
      " 3   High       1032 non-null   float64       \n",
      " 4   Low        1032 non-null   float64       \n",
      " 5   Close      1032 non-null   float64       \n",
      " 6   Adj Close  1032 non-null   float64       \n",
      "dtypes: datetime64[ns](1), float64(6)\n",
      "memory usage: 64.5 KB\n",
      "None\n",
      "            Signal         Open         High          Low        Close  \\\n",
      "count  1032.000000  1032.000000  1032.000000  1032.000000  1032.000000   \n",
      "mean     16.863667   141.710320   142.554951   140.771376   141.703198   \n",
      "std       2.827404    18.441019    18.436117    18.370474    18.461935   \n",
      "min      10.582996    94.080002    95.400002    93.639999    94.790001   \n",
      "25%      14.804177   131.805000   132.532501   130.297501   131.607502   \n",
      "50%      17.354140   146.710007   147.924995   145.489998   146.665001   \n",
      "75%      19.032254   155.279999   156.184994   154.245002   155.207497   \n",
      "max      35.434147   172.789993   173.389999   171.949997   196.279999   \n",
      "\n",
      "         Adj Close  \n",
      "count  1032.000000  \n",
      "mean    136.476987  \n",
      "std      19.413729  \n",
      "min      88.820946  \n",
      "25%     125.136505  \n",
      "50%     142.631638  \n",
      "75%     151.599186  \n",
      "max     168.842270  \n"
     ]
    }
   ],
   "execution_count": 10
  }
 ],
 "metadata": {
  "kernelspec": {
   "display_name": "Python 3 (ipykernel)",
   "language": "python",
   "name": "python3"
  },
  "language_info": {
   "codemirror_mode": {
    "name": "ipython",
    "version": 3
   },
   "file_extension": ".py",
   "mimetype": "text/x-python",
   "name": "python",
   "nbconvert_exporter": "python",
   "pygments_lexer": "ipython3",
   "version": "3.11.3"
  }
 },
 "nbformat": 4,
 "nbformat_minor": 5
}
